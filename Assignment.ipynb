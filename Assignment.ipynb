{
 "cells": [
  {
   "attachments": {},
   "cell_type": "markdown",
   "id": "a63f3b1e",
   "metadata": {},
   "source": [
    "# What is differnce between set and dictionary , Explain with suitable Example."
   ]
  },
  {
   "cell_type": "code",
   "execution_count": 4,
   "id": "5c6cad73",
   "metadata": {},
   "outputs": [
    {
     "name": "stdout",
     "output_type": "stream",
     "text": [
      "{1, 2, 3, 4}\n"
     ]
    }
   ],
   "source": [
    "s1={1,2,3,4}\n",
    "type(s1)\n",
    "print(s1)"
   ]
  },
  {
   "cell_type": "code",
   "execution_count": 5,
   "id": "8aae7c2f",
   "metadata": {},
   "outputs": [
    {
     "name": "stdout",
     "output_type": "stream",
     "text": [
      "{1: 'Shital', 2: 'Pradnya', 3: 'Shubham', 4: 'Aaditya'}\n"
     ]
    },
    {
     "data": {
      "text/plain": [
       "dict"
      ]
     },
     "execution_count": 5,
     "metadata": {},
     "output_type": "execute_result"
    }
   ],
   "source": [
    "d1={1:'Shital',2:'Pradnya',3:'Shubham',4:'Aaditya'}\n",
    "print(d1)\n",
    "type(d1)"
   ]
  },
  {
   "cell_type": "markdown",
   "id": "e6dcbba7",
   "metadata": {},
   "source": [
    "# Star pattern"
   ]
  },
  {
   "cell_type": "code",
   "execution_count": 8,
   "id": "fcd5fc07",
   "metadata": {},
   "outputs": [
    {
     "name": "stdout",
     "output_type": "stream",
     "text": [
      "*  \n",
      "*  *  \n",
      "*  *  *  \n",
      "*  *  *  *  \n"
     ]
    }
   ],
   "source": [
    "n=4\n",
    "for i in range(n):\n",
    "    for j in range(i+1):\n",
    "        print(\"* \",end=\" \")\n",
    "    print()"
   ]
  },
  {
   "cell_type": "markdown",
   "id": "9d02b532",
   "metadata": {},
   "source": [
    "# Write a program to print n natural numbers in ascending order using a while loop"
   ]
  },
  {
   "cell_type": "code",
   "execution_count": 6,
   "id": "8cd8cfb6",
   "metadata": {},
   "outputs": [
    {
     "name": "stdout",
     "output_type": "stream",
     "text": [
      "1\n",
      "2\n",
      "3\n",
      "4\n",
      "5\n",
      "6\n",
      "7\n",
      "8\n",
      "9\n",
      "10\n"
     ]
    }
   ],
   "source": [
    "num = 10\n",
    "i = 1\n",
    "while i <= num:\n",
    "    print(i)\n",
    "    i = i + 1"
   ]
  },
  {
   "cell_type": "markdown",
   "id": "a409bd5b",
   "metadata": {},
   "source": [
    "# Write a program in python to swap between two numbers without using a third variable"
   ]
  },
  {
   "cell_type": "code",
   "execution_count": 15,
   "id": "570466c7",
   "metadata": {},
   "outputs": [
    {
     "name": "stdout",
     "output_type": "stream",
     "text": [
      "Before Swapping x=5 and y=8\n",
      "After Swapping x=8 and y=5\n"
     ]
    },
    {
     "data": {
      "text/plain": [
       "8"
      ]
     },
     "execution_count": 15,
     "metadata": {},
     "output_type": "execute_result"
    }
   ],
   "source": [
    "x=5\n",
    "y=8\n",
    "print(\"Before Swapping x={} and y={}\".format(x,y))\n",
    "x,y=y,x\n",
    "print(\"After Swapping x={} and y={}\".format(x,y))\n",
    "x"
   ]
  },
  {
   "cell_type": "markdown",
   "id": "53a8cc3a",
   "metadata": {},
   "source": [
    "# How to create a function with Default Arguments in python"
   ]
  },
  {
   "cell_type": "code",
   "execution_count": 1,
   "id": "e65767fe",
   "metadata": {},
   "outputs": [],
   "source": [
    "def student(firstname, lastname ='Mark', standard ='Fifth'):\n",
    "\tprint(firstname, lastname, 'studies in', standard, 'Standard')"
   ]
  },
  {
   "cell_type": "code",
   "execution_count": 2,
   "id": "1cfd2fc1",
   "metadata": {},
   "outputs": [
    {
     "name": "stdout",
     "output_type": "stream",
     "text": [
      "Shital Mankar studies in sixth Standard\n"
     ]
    }
   ],
   "source": [
    "student('Shital','Mankar','sixth')"
   ]
  },
  {
   "cell_type": "markdown",
   "id": "e7e2da5a",
   "metadata": {},
   "source": [
    "# Display a square of numbers from 1 to 10 using 1 to 10 list comprehension"
   ]
  },
  {
   "cell_type": "code",
   "execution_count": 3,
   "id": "c4ff1a09",
   "metadata": {},
   "outputs": [
    {
     "name": "stdout",
     "output_type": "stream",
     "text": [
      "9\n"
     ]
    }
   ],
   "source": [
    "sqr=lambda b:b*b\n",
    "print(sqr(3))"
   ]
  },
  {
   "cell_type": "markdown",
   "id": "989e2f25",
   "metadata": {},
   "source": [
    " # What is polymorphism? Explain with example"
   ]
  },
  {
   "cell_type": "code",
   "execution_count": 4,
   "id": "833263db",
   "metadata": {},
   "outputs": [],
   "source": [
    "# The word polymorphism means having many forms. In programming, polymorphism means the same function name (but different signatures) being used for different types\n",
    "class Shape:\n",
    "    def area(self,radius):\n",
    "        return 3.14 * radius * radius\n",
    "     \n",
    "    def area(self,l,b):\n",
    "        return l * b\n"
   ]
  },
  {
   "cell_type": "code",
   "execution_count": 5,
   "id": "fa354619",
   "metadata": {},
   "outputs": [
    {
     "name": "stdout",
     "output_type": "stream",
     "text": [
      "24\n"
     ]
    }
   ],
   "source": [
    "o=Shape()\n",
    "print(o.area(4,6))"
   ]
  },
  {
   "cell_type": "markdown",
   "id": "3501d3d6",
   "metadata": {},
   "source": [
    "# Explain conditional probability with example"
   ]
  },
  {
   "cell_type": "raw",
   "id": "f485d95a",
   "metadata": {},
   "source": [
    "ConditionAL probability is the chance of one event happening is conditional or another event happening.\n",
    "When we tossed a coin we gwt either tail or head\n",
    "S={H,T}"
   ]
  },
  {
   "cell_type": "markdown",
   "id": "dd6349a9",
   "metadata": {},
   "source": [
    "# Explain Emperical rule with diagram"
   ]
  },
  {
   "attachments": {
    "image.png": {
     "image/png": "[encoded data removed]"
    }
   },
   "cell_type": "markdown",
   "id": "21b7f57f",
   "metadata": {},
   "source": [
    "In a normal distribution, In first deviation we get 68% in second get 95% and in third deviation get 99%\n",
    "![image.png](attachment:image.png)"
   ]
  },
  {
   "cell_type": "markdown",
   "id": "3ca610b7",
   "metadata": {},
   "source": [
    "# What is hypothesis testing? What is the Role of p value in HT"
   ]
  },
  {
   "cell_type": "raw",
   "id": "65079db8",
   "metadata": {},
   "source": [
    "H0: Maggi packet mean is 100 gm\n",
    "H1:Maggi packet mean is not 100 gm\n",
    "    \n",
    "The p value, tells you how likely it is that your data could have occurred under the null hypothesis\n",
    "\n",
    "1-sample t test: 1 continuous and 1 categorical value\n",
    "2-sample t test: 1 continuous and categorical(2 class)\n",
    "ANOVA teat: continuous and categoriacl (more than 2 class)\n",
    "chi-sqaure test:continuous and more than 2 categorical class"
   ]
  },
  {
   "cell_type": "markdown",
   "id": "626d361b",
   "metadata": {},
   "source": [
    "# Q2) List all the probability distributions with example?       "
   ]
  },
  {
   "cell_type": "markdown",
   "id": "58bee1bf",
   "metadata": {},
   "source": [
    "1.NORMAL DISTRIBUTION :\n",
    "eg : score of group of students in maths\n",
    "    \n",
    "2.UNIFORM DISTRIBUTION :\n",
    "eg : in rolling a dice the probability all outcomes is same i.e 1/6\n",
    "    \n",
    "3.BINOMIAL DISTRIBUTION :\n",
    "eg : flipping a coin\n",
    "     S = {H, T}\n",
    "        \n",
    "4.POISSON DISTRIBUTION :\n",
    "eg : number of emails received per hour\n",
    "    \n",
    "5.EXPONENTIAL DISTRIBUTION\n",
    "eg : the time between the arrival of two buses"
   ]
  },
  {
   "cell_type": "code",
   "execution_count": null,
   "id": "3b5962f8",
   "metadata": {},
   "outputs": [],
   "source": []
  },
  {
   "cell_type": "code",
   "execution_count": null,
   "id": "5ec51c2d",
   "metadata": {},
   "outputs": [],
   "source": []
  }
 ],
 "metadata": {
  "kernelspec": {
   "display_name": "Python 3 (ipykernel)",
   "language": "python",
   "name": "python3"
  },
  "language_info": {
   "codemirror_mode": {
    "name": "ipython",
    "version": 3
   },
   "file_extension": ".py",
   "mimetype": "text/x-python",
   "name": "python",
   "nbconvert_exporter": "python",
   "pygments_lexer": "ipython3",
   "version": "3.9.12"
  }
 },
 "nbformat": 4,
 "nbformat_minor": 5
}
